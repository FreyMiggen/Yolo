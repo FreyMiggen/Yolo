{
 "cells": [
  {
   "cell_type": "code",
   "execution_count": 21,
   "id": "7d525056-8325-4ef3-8ed7-ce32a3ba7453",
   "metadata": {},
   "outputs": [],
   "source": [
    "import argparse\n",
    "import os\n",
    "import matplotlib.pyplot as plt\n",
    "from matplotlib.pyplot import imshow\n",
    "import scipy.io\n",
    "import scipy.misc\n",
    "import numpy as np\n",
    "import pandas as pd\n",
    "import PIL\n",
    "from PIL import ImageFont, ImageDraw, Image\n",
    "import tensorflow as tf\n",
    "from tensorflow.python.framework.ops import EagerTensor\n",
    "\n",
    "from tensorflow.keras.models import load_model\n",
    "from yad2k.models.keras_yolo import yolo_head\n",
    "from yad2k.utils.utils import draw_boxes, get_colors_for_classes, scale_boxes, read_classes, read_anchors\n",
    "\n",
    "%matplotlib inline"
   ]
  },
  {
   "cell_type": "code",
   "execution_count": 2,
   "id": "bd54e4e8-8e52-4d05-a9a0-d7dbaaedc8a0",
   "metadata": {},
   "outputs": [],
   "source": [
    "from tensorflow.keras import backend as K\n",
    "import sys"
   ]
  },
  {
   "cell_type": "code",
   "execution_count": 3,
   "id": "56c36916-417e-47c8-8937-6e885063cf76",
   "metadata": {
    "tags": []
   },
   "outputs": [],
   "source": [
    "def yolo_head(feats, anchors, num_classes):\n",
    "    \"\"\"Convert final layer features to bounding box parameters.\n",
    "\n",
    "    Parameters\n",
    "    ----------\n",
    "    feats : tensor\n",
    "        Final convolutional layer features.\n",
    "    anchors : array-like\n",
    "        Anchor box widths and heights.\n",
    "    num_classes : int\n",
    "        Number of target classes.\n",
    "\n",
    "    Returns\n",
    "    -------\n",
    "    box_xy : tensor\n",
    "        x, y box predictions adjusted by spatial location in conv layer.\n",
    "    box_wh : tensor\n",
    "        w, h box predictions adjusted by anchors and conv spatial resolution.\n",
    "    box_conf : tensor\n",
    "        Probability estimate for whether each box contains any object.\n",
    "    box_class_pred : tensor\n",
    "        Probability distribution estimate for each box over class labels.\n",
    "    \"\"\"\n",
    "    num_anchors = len(anchors)\n",
    "    # Reshape to batch, height, width, num_anchors, box_params (None,19,19,5,85)\n",
    "    anchors_tensor = K.reshape(K.variable(anchors), [1, 1, 1, num_anchors, 2])\n",
    "\n",
    "\n",
    "    # Dynamic implementation of conv dims for fully convolutional model.\n",
    "    conv_dims = K.shape(feats)[1:3]  # obtain the height and width \n",
    " \n",
    "    # con_height_index=[0...18]- tensor\n",
    "    conv_height_index = K.arange(0, stop=conv_dims[0])\n",
    "    \n",
    "    # con_width_index=[0...18]- tensor\n",
    "    conv_width_index = K.arange(0, stop=conv_dims[1])\n",
    "    \n",
    "    #tile \n",
    "    conv_height_index = K.tile(conv_height_index, [conv_dims[1]])\n",
    "\n",
    "\n",
    "    conv_width_index = K.tile(\n",
    "        K.expand_dims(conv_width_index, 0), [conv_dims[0], 1])\n",
    "    conv_width_index = K.flatten(K.transpose(conv_width_index))\n",
    "    conv_index = K.transpose(K.stack([conv_height_index, conv_width_index]))\n",
    "    conv_index = K.reshape(conv_index, [1, conv_dims[0], conv_dims[1], 1, 2])\n",
    "    conv_index = K.cast(conv_index, K.dtype(feats))\n",
    "\n",
    "    feats = K.reshape(\n",
    "        feats, [-1, conv_dims[0], conv_dims[1], num_anchors, num_classes + 5])\n",
    "    conv_dims = K.cast(K.reshape(conv_dims, [1, 1, 1, 1, 2]), K.dtype(feats))\n",
    "\n",
    "\n",
    "\n",
    "    box_xy = K.sigmoid(feats[..., :2])\n",
    "    box_wh = K.exp(feats[..., 2:4])\n",
    "    box_confidence = K.sigmoid(feats[..., 4:5])\n",
    "    box_class_probs = K.softmax(feats[..., 5:])\n",
    "\n",
    "    # Adjust preditions to each spatial grid point and anchor size.\n",
    "    # Note: YOLO iterates over height index before width index.\n",
    "    box_xy = (box_xy + conv_index) / conv_dims\n",
    "    box_wh = box_wh * anchors_tensor / conv_dims\n",
    "\n",
    "    return box_xy, box_wh, box_confidence, box_class_probs\n"
   ]
  },
  {
   "cell_type": "code",
   "execution_count": 4,
   "id": "56c2faa5-4fc6-4263-a0f8-57cf7cd16e3e",
   "metadata": {},
   "outputs": [],
   "source": [
    "def yolo_filter_boxes(boxes, box_confidence, box_class_probs, threshold = 0.5):\n",
    "    \"\"\"Filters YOLO boxes by thresholding on object and class confidence.\n",
    "    \n",
    "    Arguments:\n",
    "        boxes -- tensor of shape (19, 19, 5, 4)\n",
    "        box_confidence -- tensor of shape (19, 19, 5, 1)\n",
    "        box_class_probs -- tensor of shape (19, 19, 5, 80)\n",
    "        threshold -- real value, if [ highest class probability score < threshold],\n",
    "                     then get rid of the corresponding box\n",
    "\n",
    "    Returns:\n",
    "        scores -- tensor of shape (None,), containing the class probability score for selected boxes\n",
    "        boxes -- tensor of shape (None, 4), containing (b_x, b_y, b_h, b_w) coordinates of selected boxes\n",
    "        classes -- tensor of shape (None,), containing the index of the class detected by the selected boxes\n",
    "\n",
    "    Note: \"None\" is here because you don't know the exact number of selected boxes, as it depends on the threshold. \n",
    "    For example, the actual output size of scores would be (10,) if there are 10 boxes.\n",
    "    \"\"\"\n",
    "    \n",
    "    ### START CODE HERE\n",
    "    # Step 1: Compute box scores\n",
    "    ##(≈ 1 line)\n",
    "    box_scores = np.multiply(box_confidence,box_class_probs)\n",
    "\n",
    "    # Step 2: Find the box_classes using the max box_scores, keep track of the corresponding score\n",
    "    ##(≈ 2 lines)\n",
    "    # IMPORTANT: set axis to -1\n",
    "    box_classes = tf.math.argmax(box_scores,axis=-1)\n",
    "    box_class_scores = tf.math.reduce_max(box_scores,axis=-1)\n",
    "    #box_class_scores of shape (19,19,5)\n",
    "    # Step 3: Create a filtering mask based on \"box_class_scores\" by using \"threshold\". The mask should have the\n",
    "    # same dimension as box_class_scores, and be True for the boxes you want to keep (with probability >= threshold)\n",
    "    ## (≈ 1 line)\n",
    "    filtering_mask = np.where(box_class_scores>=threshold,True,False)\n",
    "    \n",
    "    # Step 4: Apply the mask to box_class_scores, boxes and box_classes\n",
    "    ## (≈ 3 lines)\n",
    "    scores = tf.boolean_mask(box_class_scores,filtering_mask)\n",
    "    boxes = tf.boolean_mask(boxes,filtering_mask)\n",
    "    classes =tf.boolean_mask(box_classes,filtering_mask)\n",
    "    ### END CODE HERE\n",
    "    \n",
    "    return scores, boxes, classes"
   ]
  },
  {
   "cell_type": "code",
   "execution_count": 5,
   "id": "23a31239-a035-4714-a742-2dddbb0930dd",
   "metadata": {},
   "outputs": [],
   "source": [
    "def yolo_non_max_suppression(scores, boxes, classes, max_boxes = 10, iou_threshold = 0.5):\n",
    "    \"\"\"\n",
    "    Applies Non-max suppression (NMS) to set of boxes\n",
    "    \n",
    "    Arguments:\n",
    "    scores -- tensor of shape (None,), output of yolo_filter_boxes()\n",
    "    boxes -- tensor of shape (None, 4), output of yolo_filter_boxes() that have been scaled to the image size (see later)\n",
    "    classes -- tensor of shape (None,), output of yolo_filter_boxes()\n",
    "    max_boxes -- integer, maximum number of predicted boxes you'd like\n",
    "    iou_threshold -- real value, \"intersection over union\" threshold used for NMS filtering\n",
    "    \n",
    "    Returns:\n",
    "    scores -- tensor of shape (None, ), predicted score for each box\n",
    "    boxes -- tensor of shape (None, 4), predicted box coordinates\n",
    "    classes -- tensor of shape (None, ), predicted class for each box\n",
    "    \n",
    "    Note: The \"None\" dimension of the output tensors has obviously to be less than max_boxes. Note also that this\n",
    "    function will transpose the shapes of scores, boxes, classes. This is made for convenience.\n",
    "    \"\"\"\n",
    "    \n",
    "    max_boxes_tensor = tf.Variable(max_boxes, dtype='int32')     # tensor to be used in tf.image.non_max_suppression()\n",
    "\n",
    "    ### START CODE HERE\n",
    "    # Use tf.image.non_max_suppression() to get the list of indices corresponding to boxes you keep\n",
    "    ##(≈ 1 line)\n",
    "    nms_indices = tf.image.non_max_suppression(boxes,scores,max_output_size=max_boxes_tensor, iou_threshold=iou_threshold)\n",
    "    \n",
    "    # Use tf.gather() to select only nms_indices from scores, boxes and classes\n",
    "    ##(≈ 3 lines)\n",
    "    scores = tf.gather(scores,nms_indices)\n",
    "    boxes = tf.gather(boxes,nms_indices)\n",
    "    classes = tf.gather(classes,nms_indices)\n",
    "    ### END CODE HERE\n",
    "\n",
    "    \n",
    "    return scores, boxes, classes"
   ]
  },
  {
   "cell_type": "code",
   "execution_count": 6,
   "id": "549b9f05-af33-40b1-9353-c3e6b29d40e5",
   "metadata": {},
   "outputs": [],
   "source": [
    "def yolo_boxes_to_corners(box_xy, box_wh):\n",
    "    \"\"\"Convert YOLO box predictions to bounding box corners.\"\"\"\n",
    "    box_mins = box_xy - (box_wh / 2.)\n",
    "    box_maxes = box_xy + (box_wh / 2.)\n",
    "\n",
    "    return tf.keras.backend.concatenate([\n",
    "        box_mins[..., 1:2],  # y_min\n",
    "        box_mins[..., 0:1],  # x_min\n",
    "        box_maxes[..., 1:2],  # y_max\n",
    "        box_maxes[..., 0:1]  # x_max\n",
    "    ])"
   ]
  },
  {
   "cell_type": "code",
   "execution_count": 7,
   "id": "b25e29f4-df16-4c60-a5a6-f7965086b112",
   "metadata": {},
   "outputs": [],
   "source": [
    "\n",
    "def yolo_eval(yolo_outputs, image_shape = (720, 1280), max_boxes=10, score_threshold=.6, iou_threshold=.5):\n",
    "    \"\"\"\n",
    "    Converts the output of YOLO encoding (a lot of boxes) to your predicted boxes along with their scores, box coordinates and classes.\n",
    "    \n",
    "    Arguments:\n",
    "    yolo_outputs -- output of the encoding model (for image_shape of (608, 608, 3)), contains 4 tensors:\n",
    "                    box_xy: tensor of shape (None, 19, 19, 5, 2)\n",
    "                    box_wh: tensor of shape (None, 19, 19, 5, 2)\n",
    "                    box_confidence: tensor of shape (None, 19, 19, 5, 1)\n",
    "                    box_class_probs: tensor of shape (None, 19, 19, 5, 80)\n",
    "    image_shape -- tensor of shape (2,) containing the input shape, in this notebook we use (608., 608.) (has to be float32 dtype)\n",
    "    max_boxes -- integer, maximum number of predicted boxes you'd like\n",
    "    score_threshold -- real value, if [ highest class probability score < threshold], then get rid of the corresponding box\n",
    "    iou_threshold -- real value, \"intersection over union\" threshold used for NMS filtering\n",
    "    \n",
    "    Returns:\n",
    "    scores -- tensor of shape (None, ), predicted score for each box\n",
    "    boxes -- tensor of shape (None, 4), predicted box coordinates\n",
    "    classes -- tensor of shape (None,), predicted class for each box\n",
    "    \"\"\"\n",
    "    \n",
    "    ### START CODE HERE\n",
    "    # Retrieve outputs of the YOLO model (≈1 line)\n",
    "    box_xy, box_wh, box_confidence, box_class_probs = yolo_outputs\n",
    "    \n",
    "    # Convert boxes to be ready for filtering functions (convert boxes box_xy and box_wh to corner coordinates)\n",
    "    boxes = yolo_boxes_to_corners(box_xy,box_wh)\n",
    "    \n",
    "    # Use one of the functions you've implemented to perform Score-filtering with a threshold of score_threshold (≈1 line)\n",
    "    scores, boxes, classes = yolo_filter_boxes(boxes, box_confidence, box_class_probs, score_threshold)\n",
    "    \n",
    "    # Scale boxes back to original image shape.\n",
    "    boxes = scale_boxes(boxes, image_shape)\n",
    "    \n",
    "    # Use one of the functions you've implemented to perform Non-max suppression with \n",
    "    # maximum number of boxes set to max_boxes and a threshold of iou_threshold (≈1 line)\n",
    "    scores, boxes, classes = yolo_non_max_suppression(scores, boxes, classes, max_boxes,iou_threshold)\n",
    "    ### END CODE HERE\n",
    "    \n",
    "    return scores, boxes, classes"
   ]
  },
  {
   "cell_type": "markdown",
   "id": "5e99d6aa-18ae-4422-9fc7-476b4c4a5e45",
   "metadata": {},
   "source": [
    "### Define anchors, class_names and target size of the image"
   ]
  },
  {
   "cell_type": "code",
   "execution_count": 16,
   "id": "c77ef532-73bb-44f1-968f-8281d06f0705",
   "metadata": {},
   "outputs": [],
   "source": [
    "class_names = read_classes(\"model_data/coco_classes.txt\")\n",
    "anchors = read_anchors(\"model_data/yolo_anchors.txt\")\n",
    "model_image_size = (608, 608) # Same as yolo_model input layer size\n",
    "#new_folder=\"crop/\"\n"
   ]
  },
  {
   "cell_type": "code",
   "execution_count": 9,
   "id": "0c1f47a3-247d-4b5d-9cf0-b218f18a62d4",
   "metadata": {},
   "outputs": [
    {
     "data": {
      "text/plain": [
       "15"
      ]
     },
     "execution_count": 9,
     "metadata": {},
     "output_type": "execute_result"
    }
   ],
   "source": [
    "def retrieve_index_from_classname(name):\n",
    "    return class_names.index(name)\n",
    "retrieve_index_from_classname('cat')"
   ]
  },
  {
   "cell_type": "code",
   "execution_count": 23,
   "id": "696d79f7-b98b-45ee-89e0-1781b9e2c15a",
   "metadata": {},
   "outputs": [],
   "source": [
    "import imghdr\n",
    "import colorsys\n",
    "import random\n",
    "def preprocess_image(img_path, model_image_size):\n",
    "    image_type = imghdr.what(img_path)\n",
    "    image = Image.open(img_path)\n",
    "    resized_image = image.resize(tuple(reversed(model_image_size)), Image.BICUBIC)\n",
    "    image_data = np.array(resized_image, dtype='float32')\n",
    "    image_data /= 255.\n",
    "    image_data = np.expand_dims(image_data, 0)[:,:,:,0:3]  # Add batch dimension.\n",
    "    return image, image_data"
   ]
  },
  {
   "cell_type": "markdown",
   "id": "ed03654e-73a1-45a4-beea-bff2e43a29de",
   "metadata": {},
   "source": [
    "### Utils functions to read from the output into real boxes and classes"
   ]
  },
  {
   "cell_type": "code",
   "execution_count": 24,
   "id": "bda7cc39-df24-4748-9a7a-f0143bbc5285",
   "metadata": {},
   "outputs": [],
   "source": [
    "def predict(image_folder,new_folder):\n",
    "    \"\"\"\n",
    "    Runs the graph to predict boxes for \"image_file\". Prints and plots the predictions.\n",
    "    \n",
    "    Arguments:\n",
    "    image_file -- name of an image stored in the \"images\" folder.\n",
    "    \n",
    "    Returns:\n",
    "    out_scores -- tensor of shape (None, ), scores of the predicted boxes\n",
    "    out_boxes -- tensor of shape (None, 4), coordinates of the predicted boxes\n",
    "    out_classes -- tensor of shape (None, ), class index of the predicted boxes\n",
    "    \n",
    "    Note: \"None\" actually represents the number of predicted boxes, it varies between 0 and max_boxes. \n",
    "    \"\"\"\n",
    "\n",
    "    # Preprocess your image from a folder\n",
    "    files=os.listdir(image_folder)\n",
    "    \n",
    "    for fname in files:\n",
    "        image, image_data = preprocess_image(os.path.join(image_folder,fname), model_image_size = (608, 608))\n",
    "        yolo_model_outputs = yolo_model(image_data)\n",
    "        yolo_outputs = yolo_head(yolo_model_outputs, anchors, len(class_names))\n",
    "    \n",
    "        out_scores, out_boxes, out_classes = yolo_eval(yolo_outputs, [image.size[1],  image.size[0]], 10, 0.3, 0.5)\n",
    "        \n",
    "       \n",
    "        image_path=os.path.join(image_folder,fname)\n",
    "        print(image_path)\n",
    "        out_classes,out_boxes=filter_cat(out_boxes,out_classes)\n",
    "        crop_img(image_path, out_boxes, out_classes, new_folder)\n",
    "       \n",
    "\n",
    "\n"
   ]
  },
  {
   "cell_type": "code",
   "execution_count": 19,
   "id": "01682073-8d0e-499a-8fec-19d57f98e4f5",
   "metadata": {},
   "outputs": [],
   "source": [
    "# a function to filter the result of yolo_eval, only pass boxes that are classified as \"cat\"\n",
    "def filter_cat(out_boxes,out_classes):\n",
    "    index=retrieve_index_from_classname('cat')\n",
    "    filter_mask=np.where(out_classes==index,True,False)\n",
    "    cat_classes=tf.boolean_mask(out_classes,filter_mask)\n",
    "    cat_boxes=tf.boolean_mask(out_boxes,filter_mask)\n",
    "    return cat_classes,cat_boxes\n",
    "    \n",
    "    \n"
   ]
  },
  {
   "cell_type": "code",
   "execution_count": 25,
   "id": "e378423c-f5e2-4739-bcaf-d49f24c9f84c",
   "metadata": {},
   "outputs": [],
   "source": [
    "def crop_img(img_path, boxes, box_classes, new_folder):\n",
    "    \"\"\"Draw bounding boxes on image.\n",
    "\n",
    "    Draw bounding boxes with class name and optional box score on image.\n",
    "\n",
    "    Args:\n",
    "        image: An `array` of shape (width, height, 3) with values in [0, 1].\n",
    "        boxes: An `array` of shape (num_boxes, 4) containing box corners as\n",
    "            (y_min, x_min, y_max, x_max).\n",
    "        box_classes: A `list` of indicies into `class_names`.\n",
    "        class_names: A `list` of `string` class names.\n",
    "        `scores`: A `list` of scores for each box.\n",
    "\n",
    "    Returns:\n",
    "        A copy of `image` modified with given bounding boxes.\n",
    "    \"\"\"\n",
    "    #image = Image.fromarray(np.floor(image * 255 + 0.5).astype('uint8'))\n",
    "        \n",
    "    img=Image.open(img_path)\n",
    "    img_name=os.path.basename(img_path)\n",
    "    img_name,img_extension=img_name.split('.')\n",
    "    \n",
    "    for i, c in list(enumerate(box_classes)):\n",
    "        box_class = class_names[c]\n",
    "        box = boxes[i]\n",
    "        \n",
    "        top, left, bottom, right = box\n",
    "        top = max(0, np.floor(top + 0.5).astype('int32'))\n",
    "        left = max(0, np.floor(left + 0.5).astype('int32'))\n",
    "        bottom = min(img.size[1], np.floor(bottom + 0.5).astype('int32'))\n",
    "        right = min(img.size[0], np.floor(right + 0.5).astype('int32'))\n",
    "        \n",
    "        new_crop=img.crop((left,top,right,bottom))\n",
    "        crop_name=img_name+f'{i}'+\".\"+img_extension\n",
    "        new_crop.save(os.path.join(new_folder,crop_name))\n",
    "        \n",
    "        \n",
    "\n",
    "        \n"
   ]
  },
  {
   "cell_type": "markdown",
   "id": "ff7dc2b9-14ad-4485-a73c-018ca92cd4c3",
   "metadata": {},
   "source": [
    "### Load model"
   ]
  },
  {
   "cell_type": "code",
   "execution_count": 13,
   "id": "6714fda7-7208-4e08-8439-e24ea26d0029",
   "metadata": {},
   "outputs": [
    {
     "name": "stdout",
     "output_type": "stream",
     "text": [
      "WARNING:tensorflow:SavedModel saved prior to TF 2.5 detected when loading Keras model. Please ensure that you are saving the model with model.save() or tf.keras.models.save_model(), *NOT* tf.saved_model.save(). To confirm, there should be a file named \"keras_metadata.pb\" in the SavedModel directory.\n"
     ]
    }
   ],
   "source": [
    "yolo_model = load_model(\"model_data/\", compile=False)"
   ]
  },
  {
   "cell_type": "code",
   "execution_count": 37,
   "id": "cf44e312-63cc-481e-b7bf-b666e29264b2",
   "metadata": {},
   "outputs": [
    {
     "name": "stderr",
     "output_type": "stream",
     "text": [
      "C:\\Users\\NET-025\\AppData\\Local\\Temp\\ipykernel_11384\\425310734.py:7: DeprecationWarning: BICUBIC is deprecated and will be removed in Pillow 10 (2023-07-01). Use Resampling.BICUBIC instead.\n",
      "  resized_image = image.resize(tuple(reversed(model_image_size)), Image.BICUBIC)\n"
     ]
    },
    {
     "name": "stdout",
     "output_type": "stream",
     "text": [
      "cats_and_dogs/four\\01.jpg\n",
      "cats_and_dogs/four\\02.jpg\n",
      "cats_and_dogs/four\\03.jpg\n",
      "cats_and_dogs/four\\04.jpg\n",
      "cats_and_dogs/four\\05.jpg\n",
      "cats_and_dogs/four\\06.jpg\n",
      "cats_and_dogs/four\\07.jpg\n",
      "cats_and_dogs/four\\08.jpg\n",
      "cats_and_dogs/four\\09.jpg\n",
      "cats_and_dogs/four\\10.jpg\n",
      "cats_and_dogs/four\\11.jpg\n",
      "cats_and_dogs/four\\12.jpg\n",
      "cats_and_dogs/four\\13.jpg\n",
      "cats_and_dogs/four\\14.jpg\n",
      "cats_and_dogs/four\\15.jpg\n",
      "cats_and_dogs/four\\16.jpg\n",
      "cats_and_dogs/four\\17.jpg\n",
      "cats_and_dogs/four\\18.jpg\n",
      "cats_and_dogs/one\\Screenshot (10).png\n",
      "cats_and_dogs/one\\Screenshot (11).png\n",
      "cats_and_dogs/one\\Screenshot (12).png\n",
      "cats_and_dogs/one\\Screenshot (13).png\n",
      "cats_and_dogs/one\\Screenshot (14).png\n",
      "cats_and_dogs/one\\Screenshot (15).png\n",
      "cats_and_dogs/one\\Screenshot (16).png\n",
      "cats_and_dogs/one\\Screenshot (17).png\n",
      "cats_and_dogs/one\\Screenshot (18).png\n",
      "cats_and_dogs/one\\Screenshot (19).png\n",
      "cats_and_dogs/one\\Screenshot (2).png\n",
      "cats_and_dogs/one\\Screenshot (20).png\n",
      "cats_and_dogs/one\\Screenshot (21).png\n",
      "cats_and_dogs/one\\Screenshot (22).png\n",
      "cats_and_dogs/one\\Screenshot (23).png\n",
      "cats_and_dogs/one\\Screenshot (3).png\n",
      "cats_and_dogs/one\\Screenshot (4).png\n",
      "cats_and_dogs/one\\Screenshot (5).png\n",
      "cats_and_dogs/one\\Screenshot (6).png\n",
      "cats_and_dogs/one\\Screenshot (7).png\n",
      "cats_and_dogs/one\\Screenshot (8).png\n",
      "cats_and_dogs/one\\Screenshot (9).png\n",
      "cats_and_dogs/six\\01.jpg\n",
      "cats_and_dogs/six\\02.jpg\n",
      "cats_and_dogs/six\\03.jpg\n",
      "cats_and_dogs/six\\04.jpg\n",
      "cats_and_dogs/six\\05.jpg\n",
      "cats_and_dogs/six\\06.jpg\n",
      "cats_and_dogs/six\\07.jpg\n",
      "cats_and_dogs/six\\08.jpg\n",
      "cats_and_dogs/six\\09.jpg\n",
      "cats_and_dogs/six\\10.jpg\n",
      "cats_and_dogs/six\\11.jpg\n",
      "cats_and_dogs/three\\Screenshot (54).png\n",
      "cats_and_dogs/three\\Screenshot (55).png\n",
      "cats_and_dogs/three\\Screenshot (56).png\n",
      "cats_and_dogs/three\\Screenshot (57).png\n",
      "cats_and_dogs/three\\Screenshot (58).png\n",
      "cats_and_dogs/three\\Screenshot (59).png\n",
      "cats_and_dogs/three\\Screenshot (60).png\n",
      "cats_and_dogs/three\\Screenshot (61).png\n",
      "cats_and_dogs/three\\Screenshot (62).png\n",
      "cats_and_dogs/three\\Screenshot (63).png\n",
      "cats_and_dogs/three\\Screenshot (64).png\n",
      "cats_and_dogs/three\\Screenshot (65).png\n",
      "cats_and_dogs/three\\Screenshot (66).png\n",
      "cats_and_dogs/three\\Screenshot (67).png\n",
      "cats_and_dogs/three\\Screenshot (68).png\n",
      "cats_and_dogs/three\\Screenshot (69).png\n",
      "cats_and_dogs/three\\Screenshot (70).png\n",
      "cats_and_dogs/three\\Screenshot (71).png\n",
      "cats_and_dogs/three\\Screenshot (72).png\n",
      "cats_and_dogs/three\\Screenshot (73).png\n",
      "cats_and_dogs/three\\Screenshot (74).png\n",
      "cats_and_dogs/three\\Screenshot (75).png\n",
      "cats_and_dogs/three\\Screenshot (76).png\n",
      "cats_and_dogs/three\\Screenshot (77).png\n",
      "cats_and_dogs/three\\Screenshot (78).png\n",
      "cats_and_dogs/three\\Screenshot (79).png\n",
      "cats_and_dogs/three\\Screenshot (80).png\n",
      "cats_and_dogs/three\\Screenshot (81).png\n",
      "cats_and_dogs/three\\Screenshot (82).png\n",
      "cats_and_dogs/three\\Screenshot (83).png\n",
      "cats_and_dogs/three\\Screenshot (84).png\n",
      "cats_and_dogs/three\\Screenshot (85).png\n",
      "cats_and_dogs/three\\Screenshot (86).png\n",
      "cats_and_dogs/three\\Screenshot (87).png\n",
      "cats_and_dogs/three\\Screenshot (88).png\n",
      "cats_and_dogs/two\\Screenshot (24).png\n",
      "cats_and_dogs/two\\Screenshot (25).png\n",
      "cats_and_dogs/two\\Screenshot (26).png\n",
      "cats_and_dogs/two\\Screenshot (27).png\n",
      "cats_and_dogs/two\\Screenshot (28).png\n",
      "cats_and_dogs/two\\Screenshot (29).png\n",
      "cats_and_dogs/two\\Screenshot (30).png\n",
      "cats_and_dogs/two\\Screenshot (31).png\n",
      "cats_and_dogs/two\\Screenshot (32).png\n",
      "cats_and_dogs/two\\Screenshot (33).png\n",
      "cats_and_dogs/two\\Screenshot (34).png\n",
      "cats_and_dogs/two\\Screenshot (35).png\n",
      "cats_and_dogs/two\\Screenshot (36).png\n",
      "cats_and_dogs/two\\Screenshot (37).png\n",
      "cats_and_dogs/two\\Screenshot (38).png\n",
      "cats_and_dogs/two\\Screenshot (39).png\n",
      "cats_and_dogs/two\\Screenshot (40).png\n",
      "cats_and_dogs/two\\Screenshot (41).png\n",
      "cats_and_dogs/two\\Screenshot (42).png\n",
      "cats_and_dogs/two\\Screenshot (43).png\n",
      "cats_and_dogs/two\\Screenshot (44).png\n",
      "cats_and_dogs/two\\Screenshot (45).png\n",
      "cats_and_dogs/two\\Screenshot (46).png\n",
      "cats_and_dogs/two\\Screenshot (47).png\n",
      "cats_and_dogs/two\\Screenshot (48).png\n",
      "cats_and_dogs/two\\Screenshot (49).png\n",
      "cats_and_dogs/two\\Screenshot (50).png\n",
      "cats_and_dogs/two\\Screenshot (51).png\n",
      "cats_and_dogs/two\\Screenshot (52).png\n"
     ]
    }
   ],
   "source": [
    "img_folder=\"cats_and_dogs/\"\n",
    "crop_folder='crop/'\n",
    "subs=os.listdir('cats_and_dogs/')\n",
    "for sub in subs:\n",
    "    sub_dir=os.path.join(img_folder,sub)\n",
    "    #create a folder in crop with the same name\n",
    "    os.makedirs(os.path.join(crop_folder,sub),exist_ok=True)\n",
    "    crop_dir=os.path.join(crop_folder,sub)\n",
    "    predict(sub_dir,crop_dir)\n",
    "    "
   ]
  },
  {
   "cell_type": "code",
   "execution_count": 36,
   "id": "b8d236e8-4709-4303-9644-3dcad467244b",
   "metadata": {},
   "outputs": [],
   "source": [
    "crop_dir"
   ]
  },
  {
   "cell_type": "code",
   "execution_count": 26,
   "id": "3390089b-67b3-4769-8f9f-f66bc089a011",
   "metadata": {
    "tags": []
   },
   "outputs": [
    {
     "name": "stderr",
     "output_type": "stream",
     "text": [
      "C:\\Users\\NET-025\\AppData\\Local\\Temp\\ipykernel_11384\\425310734.py:7: DeprecationWarning: BICUBIC is deprecated and will be removed in Pillow 10 (2023-07-01). Use Resampling.BICUBIC instead.\n",
      "  resized_image = image.resize(tuple(reversed(model_image_size)), Image.BICUBIC)\n"
     ]
    },
    {
     "name": "stdout",
     "output_type": "stream",
     "text": [
      "cats_and_dogs/one\\Screenshot (10).png\n",
      "cats_and_dogs/one\\Screenshot (11).png\n",
      "cats_and_dogs/one\\Screenshot (12).png\n",
      "cats_and_dogs/one\\Screenshot (13).png\n",
      "cats_and_dogs/one\\Screenshot (14).png\n",
      "cats_and_dogs/one\\Screenshot (15).png\n",
      "cats_and_dogs/one\\Screenshot (16).png\n",
      "cats_and_dogs/one\\Screenshot (17).png\n",
      "cats_and_dogs/one\\Screenshot (18).png\n",
      "cats_and_dogs/one\\Screenshot (19).png\n",
      "cats_and_dogs/one\\Screenshot (2).png\n",
      "cats_and_dogs/one\\Screenshot (20).png\n",
      "cats_and_dogs/one\\Screenshot (21).png\n",
      "cats_and_dogs/one\\Screenshot (22).png\n",
      "cats_and_dogs/one\\Screenshot (23).png\n",
      "cats_and_dogs/one\\Screenshot (3).png\n",
      "cats_and_dogs/one\\Screenshot (4).png\n",
      "cats_and_dogs/one\\Screenshot (5).png\n",
      "cats_and_dogs/one\\Screenshot (6).png\n",
      "cats_and_dogs/one\\Screenshot (7).png\n",
      "cats_and_dogs/one\\Screenshot (8).png\n",
      "cats_and_dogs/one\\Screenshot (9).png\n"
     ]
    }
   ],
   "source": [
    "\n",
    "predict('cats_and_dogs/one','crop/')"
   ]
  },
  {
   "cell_type": "code",
   "execution_count": 29,
   "id": "1e545d54-64af-4fcb-94c2-0d4e40be0935",
   "metadata": {},
   "outputs": [],
   "source": [
    "test=Image.open(\"D:\\Yolo\\Files\\home\\jovyan\\work\\W3A1\\cats_and_dogs\\Screenshot (2).png\")"
   ]
  },
  {
   "cell_type": "code",
   "execution_count": 30,
   "id": "1199980a-45c3-4245-99b8-7d32871be733",
   "metadata": {},
   "outputs": [
    {
     "data": {
      "text/plain": [
       "(1920, 1080)"
      ]
     },
     "execution_count": 30,
     "metadata": {},
     "output_type": "execute_result"
    }
   ],
   "source": [
    "test.size"
   ]
  },
  {
   "cell_type": "code",
   "execution_count": 64,
   "id": "fb56f654-d54a-4ab6-9d19-de52b7bcbbcb",
   "metadata": {},
   "outputs": [],
   "source": [
    "import imghdr\n",
    "import colorsys\n",
    "import random\n",
    "def preprocess_image(img_path, model_image_size):\n",
    "    image_type = imghdr.what(img_path)\n",
    "    image = Image.open(img_path)\n",
    "    resized_image = image.resize(tuple(reversed(model_image_size)), Image.BICUBIC)\n",
    "    image_data = np.array(resized_image, dtype='float32')\n",
    "    image_data /= 255.\n",
    "    image_data = np.expand_dims(image_data, 0)[:,:,:,0:3]  # Add batch dimension.\n",
    "    return image, image_data"
   ]
  },
  {
   "cell_type": "code",
   "execution_count": 60,
   "id": "9356dfdb-259c-4913-878e-4f9caf49b5d2",
   "metadata": {},
   "outputs": [
    {
     "name": "stderr",
     "output_type": "stream",
     "text": [
      "C:\\Users\\NET-025\\AppData\\Local\\Temp\\ipykernel_9776\\425310734.py:7: DeprecationWarning: BICUBIC is deprecated and will be removed in Pillow 10 (2023-07-01). Use Resampling.BICUBIC instead.\n",
      "  resized_image = image.resize(tuple(reversed(model_image_size)), Image.BICUBIC)\n"
     ]
    }
   ],
   "source": [
    "test,np_test=preprocess_image(\"D:\\Yolo\\Files\\home\\jovyan\\work\\W3A1\\cats_and_dogs\\Screenshot (23).png\",(608,608))"
   ]
  },
  {
   "cell_type": "code",
   "execution_count": 63,
   "id": "ce6ca711-3797-4567-bed9-5ac6bc770be8",
   "metadata": {},
   "outputs": [
    {
     "data": {
      "text/plain": [
       "array([[[[0.87058824, 0.88235295, 0.9019608 ],\n",
       "         [0.87058824, 0.88235295, 0.9019608 ],\n",
       "         [0.87058824, 0.88235295, 0.9019608 ],\n",
       "         ...,\n",
       "         [0.87058824, 0.88235295, 0.9019608 ],\n",
       "         [0.87058824, 0.88235295, 0.9019608 ],\n",
       "         [0.87058824, 0.88235295, 0.9019608 ]],\n",
       "\n",
       "        [[0.87058824, 0.88235295, 0.9019608 ],\n",
       "         [0.87058824, 0.88235295, 0.9019608 ],\n",
       "         [0.87058824, 0.88235295, 0.9019608 ],\n",
       "         ...,\n",
       "         [0.87058824, 0.88235295, 0.9019608 ],\n",
       "         [0.87058824, 0.88235295, 0.9019608 ],\n",
       "         [0.87058824, 0.88235295, 0.9019608 ]],\n",
       "\n",
       "        [[0.87058824, 0.88235295, 0.9019608 ],\n",
       "         [0.87058824, 0.88235295, 0.9019608 ],\n",
       "         [0.87058824, 0.88235295, 0.9019608 ],\n",
       "         ...,\n",
       "         [0.87058824, 0.88235295, 0.9019608 ],\n",
       "         [0.87058824, 0.88235295, 0.9019608 ],\n",
       "         [0.87058824, 0.88235295, 0.9019608 ]],\n",
       "\n",
       "        ...,\n",
       "\n",
       "        [[0.13333334, 0.13725491, 0.10588235],\n",
       "         [0.13333334, 0.13725491, 0.10588235],\n",
       "         [0.13333334, 0.13725491, 0.10588235],\n",
       "         ...,\n",
       "         [0.12941177, 0.12941177, 0.11372549],\n",
       "         [0.13333334, 0.13333334, 0.11764706],\n",
       "         [0.12941177, 0.12941177, 0.11372549]],\n",
       "\n",
       "        [[0.12941177, 0.13333334, 0.10196079],\n",
       "         [0.13333334, 0.13725491, 0.10588235],\n",
       "         [0.13333334, 0.13725491, 0.10588235],\n",
       "         ...,\n",
       "         [0.12941177, 0.12941177, 0.11372549],\n",
       "         [0.12941177, 0.12941177, 0.11372549],\n",
       "         [0.13333334, 0.13333334, 0.11764706]],\n",
       "\n",
       "        [[0.13333334, 0.13725491, 0.10588235],\n",
       "         [0.13333334, 0.13725491, 0.10588235],\n",
       "         [0.13333334, 0.13725491, 0.10588235],\n",
       "         ...,\n",
       "         [0.13333334, 0.13333334, 0.11764706],\n",
       "         [0.12941177, 0.12941177, 0.11372549],\n",
       "         [0.12941177, 0.12941177, 0.11372549]]]], dtype=float32)"
      ]
     },
     "execution_count": 63,
     "metadata": {},
     "output_type": "execute_result"
    }
   ],
   "source": []
  },
  {
   "cell_type": "code",
   "execution_count": 62,
   "id": "55ccfd7b-f2b3-45cc-9778-9889a8829996",
   "metadata": {},
   "outputs": [
    {
     "ename": "TypeError",
     "evalue": "Cannot handle this data type: (1, 1, 608, 3), |u1",
     "output_type": "error",
     "traceback": [
      "\u001b[1;31m---------------------------------------------------------------------------\u001b[0m",
      "\u001b[1;31mKeyError\u001b[0m                                  Traceback (most recent call last)",
      "File \u001b[1;32m~\\AppData\\Local\\Programs\\Python\\Python310\\lib\\site-packages\\PIL\\Image.py:2992\u001b[0m, in \u001b[0;36mfromarray\u001b[1;34m(obj, mode)\u001b[0m\n\u001b[0;32m   2991\u001b[0m \u001b[38;5;28;01mtry\u001b[39;00m:\n\u001b[1;32m-> 2992\u001b[0m     mode, rawmode \u001b[38;5;241m=\u001b[39m \u001b[43m_fromarray_typemap\u001b[49m\u001b[43m[\u001b[49m\u001b[43mtypekey\u001b[49m\u001b[43m]\u001b[49m\n\u001b[0;32m   2993\u001b[0m \u001b[38;5;28;01mexcept\u001b[39;00m \u001b[38;5;167;01mKeyError\u001b[39;00m \u001b[38;5;28;01mas\u001b[39;00m e:\n",
      "\u001b[1;31mKeyError\u001b[0m: ((1, 1, 608, 3), '|u1')",
      "\nThe above exception was the direct cause of the following exception:\n",
      "\u001b[1;31mTypeError\u001b[0m                                 Traceback (most recent call last)",
      "Cell \u001b[1;32mIn [62], line 1\u001b[0m\n\u001b[1;32m----> 1\u001b[0m PIL_image \u001b[38;5;241m=\u001b[39m \u001b[43mImage\u001b[49m\u001b[38;5;241;43m.\u001b[39;49m\u001b[43mfromarray\u001b[49m\u001b[43m(\u001b[49m\u001b[43mnp\u001b[49m\u001b[38;5;241;43m.\u001b[39;49m\u001b[43muint8\u001b[49m\u001b[43m(\u001b[49m\u001b[43mnp_test\u001b[49m\u001b[43m)\u001b[49m\u001b[43m)\u001b[49m\u001b[38;5;241m.\u001b[39mconvert(\u001b[38;5;124m'\u001b[39m\u001b[38;5;124mRGB\u001b[39m\u001b[38;5;124m'\u001b[39m)\n",
      "File \u001b[1;32m~\\AppData\\Local\\Programs\\Python\\Python310\\lib\\site-packages\\PIL\\Image.py:2994\u001b[0m, in \u001b[0;36mfromarray\u001b[1;34m(obj, mode)\u001b[0m\n\u001b[0;32m   2992\u001b[0m         mode, rawmode \u001b[38;5;241m=\u001b[39m _fromarray_typemap[typekey]\n\u001b[0;32m   2993\u001b[0m     \u001b[38;5;28;01mexcept\u001b[39;00m \u001b[38;5;167;01mKeyError\u001b[39;00m \u001b[38;5;28;01mas\u001b[39;00m e:\n\u001b[1;32m-> 2994\u001b[0m         \u001b[38;5;28;01mraise\u001b[39;00m \u001b[38;5;167;01mTypeError\u001b[39;00m(\u001b[38;5;124m\"\u001b[39m\u001b[38;5;124mCannot handle this data type: \u001b[39m\u001b[38;5;132;01m%s\u001b[39;00m\u001b[38;5;124m, \u001b[39m\u001b[38;5;132;01m%s\u001b[39;00m\u001b[38;5;124m\"\u001b[39m \u001b[38;5;241m%\u001b[39m typekey) \u001b[38;5;28;01mfrom\u001b[39;00m \u001b[38;5;21;01me\u001b[39;00m\n\u001b[0;32m   2995\u001b[0m \u001b[38;5;28;01melse\u001b[39;00m:\n\u001b[0;32m   2996\u001b[0m     rawmode \u001b[38;5;241m=\u001b[39m mode\n",
      "\u001b[1;31mTypeError\u001b[0m: Cannot handle this data type: (1, 1, 608, 3), |u1"
     ]
    }
   ],
   "source": [
    " PIL_image = Image.fromarray(np.uint8(np_test)).convert('RGB')"
   ]
  },
  {
   "cell_type": "code",
   "execution_count": 54,
   "id": "dacae1de-85f2-4897-af5e-894f1133102a",
   "metadata": {},
   "outputs": [
    {
     "ename": "TypeError",
     "evalue": "Invalid shape (1, 608, 608, 3) for image data",
     "output_type": "error",
     "traceback": [
      "\u001b[1;31m---------------------------------------------------------------------------\u001b[0m",
      "\u001b[1;31mTypeError\u001b[0m                                 Traceback (most recent call last)",
      "Cell \u001b[1;32mIn [54], line 1\u001b[0m\n\u001b[1;32m----> 1\u001b[0m \u001b[43mplt\u001b[49m\u001b[38;5;241;43m.\u001b[39;49m\u001b[43mimshow\u001b[49m\u001b[43m(\u001b[49m\u001b[43mtest\u001b[49m\u001b[43m)\u001b[49m\n",
      "File \u001b[1;32m~\\AppData\\Local\\Programs\\Python\\Python310\\lib\\site-packages\\matplotlib\\_api\\deprecation.py:454\u001b[0m, in \u001b[0;36mmake_keyword_only.<locals>.wrapper\u001b[1;34m(*args, **kwargs)\u001b[0m\n\u001b[0;32m    448\u001b[0m \u001b[38;5;28;01mif\u001b[39;00m \u001b[38;5;28mlen\u001b[39m(args) \u001b[38;5;241m>\u001b[39m name_idx:\n\u001b[0;32m    449\u001b[0m     warn_deprecated(\n\u001b[0;32m    450\u001b[0m         since, message\u001b[38;5;241m=\u001b[39m\u001b[38;5;124m\"\u001b[39m\u001b[38;5;124mPassing the \u001b[39m\u001b[38;5;132;01m%(name)s\u001b[39;00m\u001b[38;5;124m \u001b[39m\u001b[38;5;132;01m%(obj_type)s\u001b[39;00m\u001b[38;5;124m \u001b[39m\u001b[38;5;124m\"\u001b[39m\n\u001b[0;32m    451\u001b[0m         \u001b[38;5;124m\"\u001b[39m\u001b[38;5;124mpositionally is deprecated since Matplotlib \u001b[39m\u001b[38;5;132;01m%(since)s\u001b[39;00m\u001b[38;5;124m; the \u001b[39m\u001b[38;5;124m\"\u001b[39m\n\u001b[0;32m    452\u001b[0m         \u001b[38;5;124m\"\u001b[39m\u001b[38;5;124mparameter will become keyword-only \u001b[39m\u001b[38;5;132;01m%(removal)s\u001b[39;00m\u001b[38;5;124m.\u001b[39m\u001b[38;5;124m\"\u001b[39m,\n\u001b[0;32m    453\u001b[0m         name\u001b[38;5;241m=\u001b[39mname, obj_type\u001b[38;5;241m=\u001b[39m\u001b[38;5;124mf\u001b[39m\u001b[38;5;124m\"\u001b[39m\u001b[38;5;124mparameter of \u001b[39m\u001b[38;5;132;01m{\u001b[39;00mfunc\u001b[38;5;241m.\u001b[39m\u001b[38;5;18m__name__\u001b[39m\u001b[38;5;132;01m}\u001b[39;00m\u001b[38;5;124m()\u001b[39m\u001b[38;5;124m\"\u001b[39m)\n\u001b[1;32m--> 454\u001b[0m \u001b[38;5;28;01mreturn\u001b[39;00m func(\u001b[38;5;241m*\u001b[39margs, \u001b[38;5;241m*\u001b[39m\u001b[38;5;241m*\u001b[39mkwargs)\n",
      "File \u001b[1;32m~\\AppData\\Local\\Programs\\Python\\Python310\\lib\\site-packages\\matplotlib\\pyplot.py:2623\u001b[0m, in \u001b[0;36mimshow\u001b[1;34m(X, cmap, norm, aspect, interpolation, alpha, vmin, vmax, origin, extent, interpolation_stage, filternorm, filterrad, resample, url, data, **kwargs)\u001b[0m\n\u001b[0;32m   2617\u001b[0m \u001b[38;5;129m@_copy_docstring_and_deprecators\u001b[39m(Axes\u001b[38;5;241m.\u001b[39mimshow)\n\u001b[0;32m   2618\u001b[0m \u001b[38;5;28;01mdef\u001b[39;00m \u001b[38;5;21mimshow\u001b[39m(\n\u001b[0;32m   2619\u001b[0m         X, cmap\u001b[38;5;241m=\u001b[39m\u001b[38;5;28;01mNone\u001b[39;00m, norm\u001b[38;5;241m=\u001b[39m\u001b[38;5;28;01mNone\u001b[39;00m, aspect\u001b[38;5;241m=\u001b[39m\u001b[38;5;28;01mNone\u001b[39;00m, interpolation\u001b[38;5;241m=\u001b[39m\u001b[38;5;28;01mNone\u001b[39;00m,\n\u001b[0;32m   2620\u001b[0m         alpha\u001b[38;5;241m=\u001b[39m\u001b[38;5;28;01mNone\u001b[39;00m, vmin\u001b[38;5;241m=\u001b[39m\u001b[38;5;28;01mNone\u001b[39;00m, vmax\u001b[38;5;241m=\u001b[39m\u001b[38;5;28;01mNone\u001b[39;00m, origin\u001b[38;5;241m=\u001b[39m\u001b[38;5;28;01mNone\u001b[39;00m, extent\u001b[38;5;241m=\u001b[39m\u001b[38;5;28;01mNone\u001b[39;00m, \u001b[38;5;241m*\u001b[39m,\n\u001b[0;32m   2621\u001b[0m         interpolation_stage\u001b[38;5;241m=\u001b[39m\u001b[38;5;28;01mNone\u001b[39;00m, filternorm\u001b[38;5;241m=\u001b[39m\u001b[38;5;28;01mTrue\u001b[39;00m, filterrad\u001b[38;5;241m=\u001b[39m\u001b[38;5;241m4.0\u001b[39m,\n\u001b[0;32m   2622\u001b[0m         resample\u001b[38;5;241m=\u001b[39m\u001b[38;5;28;01mNone\u001b[39;00m, url\u001b[38;5;241m=\u001b[39m\u001b[38;5;28;01mNone\u001b[39;00m, data\u001b[38;5;241m=\u001b[39m\u001b[38;5;28;01mNone\u001b[39;00m, \u001b[38;5;241m*\u001b[39m\u001b[38;5;241m*\u001b[39mkwargs):\n\u001b[1;32m-> 2623\u001b[0m     __ret \u001b[38;5;241m=\u001b[39m gca()\u001b[38;5;241m.\u001b[39mimshow(\n\u001b[0;32m   2624\u001b[0m         X, cmap\u001b[38;5;241m=\u001b[39mcmap, norm\u001b[38;5;241m=\u001b[39mnorm, aspect\u001b[38;5;241m=\u001b[39maspect,\n\u001b[0;32m   2625\u001b[0m         interpolation\u001b[38;5;241m=\u001b[39minterpolation, alpha\u001b[38;5;241m=\u001b[39malpha, vmin\u001b[38;5;241m=\u001b[39mvmin,\n\u001b[0;32m   2626\u001b[0m         vmax\u001b[38;5;241m=\u001b[39mvmax, origin\u001b[38;5;241m=\u001b[39morigin, extent\u001b[38;5;241m=\u001b[39mextent,\n\u001b[0;32m   2627\u001b[0m         interpolation_stage\u001b[38;5;241m=\u001b[39minterpolation_stage,\n\u001b[0;32m   2628\u001b[0m         filternorm\u001b[38;5;241m=\u001b[39mfilternorm, filterrad\u001b[38;5;241m=\u001b[39mfilterrad, resample\u001b[38;5;241m=\u001b[39mresample,\n\u001b[0;32m   2629\u001b[0m         url\u001b[38;5;241m=\u001b[39murl, \u001b[38;5;241m*\u001b[39m\u001b[38;5;241m*\u001b[39m({\u001b[38;5;124m\"\u001b[39m\u001b[38;5;124mdata\u001b[39m\u001b[38;5;124m\"\u001b[39m: data} \u001b[38;5;28;01mif\u001b[39;00m data \u001b[38;5;129;01mis\u001b[39;00m \u001b[38;5;129;01mnot\u001b[39;00m \u001b[38;5;28;01mNone\u001b[39;00m \u001b[38;5;28;01melse\u001b[39;00m {}),\n\u001b[0;32m   2630\u001b[0m         \u001b[38;5;241m*\u001b[39m\u001b[38;5;241m*\u001b[39mkwargs)\n\u001b[0;32m   2631\u001b[0m     sci(__ret)\n\u001b[0;32m   2632\u001b[0m     \u001b[38;5;28;01mreturn\u001b[39;00m __ret\n",
      "File \u001b[1;32m~\\AppData\\Local\\Programs\\Python\\Python310\\lib\\site-packages\\matplotlib\\_api\\deprecation.py:454\u001b[0m, in \u001b[0;36mmake_keyword_only.<locals>.wrapper\u001b[1;34m(*args, **kwargs)\u001b[0m\n\u001b[0;32m    448\u001b[0m \u001b[38;5;28;01mif\u001b[39;00m \u001b[38;5;28mlen\u001b[39m(args) \u001b[38;5;241m>\u001b[39m name_idx:\n\u001b[0;32m    449\u001b[0m     warn_deprecated(\n\u001b[0;32m    450\u001b[0m         since, message\u001b[38;5;241m=\u001b[39m\u001b[38;5;124m\"\u001b[39m\u001b[38;5;124mPassing the \u001b[39m\u001b[38;5;132;01m%(name)s\u001b[39;00m\u001b[38;5;124m \u001b[39m\u001b[38;5;132;01m%(obj_type)s\u001b[39;00m\u001b[38;5;124m \u001b[39m\u001b[38;5;124m\"\u001b[39m\n\u001b[0;32m    451\u001b[0m         \u001b[38;5;124m\"\u001b[39m\u001b[38;5;124mpositionally is deprecated since Matplotlib \u001b[39m\u001b[38;5;132;01m%(since)s\u001b[39;00m\u001b[38;5;124m; the \u001b[39m\u001b[38;5;124m\"\u001b[39m\n\u001b[0;32m    452\u001b[0m         \u001b[38;5;124m\"\u001b[39m\u001b[38;5;124mparameter will become keyword-only \u001b[39m\u001b[38;5;132;01m%(removal)s\u001b[39;00m\u001b[38;5;124m.\u001b[39m\u001b[38;5;124m\"\u001b[39m,\n\u001b[0;32m    453\u001b[0m         name\u001b[38;5;241m=\u001b[39mname, obj_type\u001b[38;5;241m=\u001b[39m\u001b[38;5;124mf\u001b[39m\u001b[38;5;124m\"\u001b[39m\u001b[38;5;124mparameter of \u001b[39m\u001b[38;5;132;01m{\u001b[39;00mfunc\u001b[38;5;241m.\u001b[39m\u001b[38;5;18m__name__\u001b[39m\u001b[38;5;132;01m}\u001b[39;00m\u001b[38;5;124m()\u001b[39m\u001b[38;5;124m\"\u001b[39m)\n\u001b[1;32m--> 454\u001b[0m \u001b[38;5;28;01mreturn\u001b[39;00m func(\u001b[38;5;241m*\u001b[39margs, \u001b[38;5;241m*\u001b[39m\u001b[38;5;241m*\u001b[39mkwargs)\n",
      "File \u001b[1;32m~\\AppData\\Local\\Programs\\Python\\Python310\\lib\\site-packages\\matplotlib\\__init__.py:1423\u001b[0m, in \u001b[0;36m_preprocess_data.<locals>.inner\u001b[1;34m(ax, data, *args, **kwargs)\u001b[0m\n\u001b[0;32m   1420\u001b[0m \u001b[38;5;129m@functools\u001b[39m\u001b[38;5;241m.\u001b[39mwraps(func)\n\u001b[0;32m   1421\u001b[0m \u001b[38;5;28;01mdef\u001b[39;00m \u001b[38;5;21minner\u001b[39m(ax, \u001b[38;5;241m*\u001b[39margs, data\u001b[38;5;241m=\u001b[39m\u001b[38;5;28;01mNone\u001b[39;00m, \u001b[38;5;241m*\u001b[39m\u001b[38;5;241m*\u001b[39mkwargs):\n\u001b[0;32m   1422\u001b[0m     \u001b[38;5;28;01mif\u001b[39;00m data \u001b[38;5;129;01mis\u001b[39;00m \u001b[38;5;28;01mNone\u001b[39;00m:\n\u001b[1;32m-> 1423\u001b[0m         \u001b[38;5;28;01mreturn\u001b[39;00m func(ax, \u001b[38;5;241m*\u001b[39m\u001b[38;5;28mmap\u001b[39m(sanitize_sequence, args), \u001b[38;5;241m*\u001b[39m\u001b[38;5;241m*\u001b[39mkwargs)\n\u001b[0;32m   1425\u001b[0m     bound \u001b[38;5;241m=\u001b[39m new_sig\u001b[38;5;241m.\u001b[39mbind(ax, \u001b[38;5;241m*\u001b[39margs, \u001b[38;5;241m*\u001b[39m\u001b[38;5;241m*\u001b[39mkwargs)\n\u001b[0;32m   1426\u001b[0m     auto_label \u001b[38;5;241m=\u001b[39m (bound\u001b[38;5;241m.\u001b[39marguments\u001b[38;5;241m.\u001b[39mget(label_namer)\n\u001b[0;32m   1427\u001b[0m                   \u001b[38;5;129;01mor\u001b[39;00m bound\u001b[38;5;241m.\u001b[39mkwargs\u001b[38;5;241m.\u001b[39mget(label_namer))\n",
      "File \u001b[1;32m~\\AppData\\Local\\Programs\\Python\\Python310\\lib\\site-packages\\matplotlib\\axes\\_axes.py:5604\u001b[0m, in \u001b[0;36mAxes.imshow\u001b[1;34m(self, X, cmap, norm, aspect, interpolation, alpha, vmin, vmax, origin, extent, interpolation_stage, filternorm, filterrad, resample, url, **kwargs)\u001b[0m\n\u001b[0;32m   5596\u001b[0m \u001b[38;5;28mself\u001b[39m\u001b[38;5;241m.\u001b[39mset_aspect(aspect)\n\u001b[0;32m   5597\u001b[0m im \u001b[38;5;241m=\u001b[39m mimage\u001b[38;5;241m.\u001b[39mAxesImage(\u001b[38;5;28mself\u001b[39m, cmap\u001b[38;5;241m=\u001b[39mcmap, norm\u001b[38;5;241m=\u001b[39mnorm,\n\u001b[0;32m   5598\u001b[0m                       interpolation\u001b[38;5;241m=\u001b[39minterpolation, origin\u001b[38;5;241m=\u001b[39morigin,\n\u001b[0;32m   5599\u001b[0m                       extent\u001b[38;5;241m=\u001b[39mextent, filternorm\u001b[38;5;241m=\u001b[39mfilternorm,\n\u001b[0;32m   5600\u001b[0m                       filterrad\u001b[38;5;241m=\u001b[39mfilterrad, resample\u001b[38;5;241m=\u001b[39mresample,\n\u001b[0;32m   5601\u001b[0m                       interpolation_stage\u001b[38;5;241m=\u001b[39minterpolation_stage,\n\u001b[0;32m   5602\u001b[0m                       \u001b[38;5;241m*\u001b[39m\u001b[38;5;241m*\u001b[39mkwargs)\n\u001b[1;32m-> 5604\u001b[0m \u001b[43mim\u001b[49m\u001b[38;5;241;43m.\u001b[39;49m\u001b[43mset_data\u001b[49m\u001b[43m(\u001b[49m\u001b[43mX\u001b[49m\u001b[43m)\u001b[49m\n\u001b[0;32m   5605\u001b[0m im\u001b[38;5;241m.\u001b[39mset_alpha(alpha)\n\u001b[0;32m   5606\u001b[0m \u001b[38;5;28;01mif\u001b[39;00m im\u001b[38;5;241m.\u001b[39mget_clip_path() \u001b[38;5;129;01mis\u001b[39;00m \u001b[38;5;28;01mNone\u001b[39;00m:\n\u001b[0;32m   5607\u001b[0m     \u001b[38;5;66;03m# image does not already have clipping set, clip to axes patch\u001b[39;00m\n",
      "File \u001b[1;32m~\\AppData\\Local\\Programs\\Python\\Python310\\lib\\site-packages\\matplotlib\\image.py:710\u001b[0m, in \u001b[0;36m_ImageBase.set_data\u001b[1;34m(self, A)\u001b[0m\n\u001b[0;32m    706\u001b[0m     \u001b[38;5;28mself\u001b[39m\u001b[38;5;241m.\u001b[39m_A \u001b[38;5;241m=\u001b[39m \u001b[38;5;28mself\u001b[39m\u001b[38;5;241m.\u001b[39m_A[:, :, \u001b[38;5;241m0\u001b[39m]\n\u001b[0;32m    708\u001b[0m \u001b[38;5;28;01mif\u001b[39;00m \u001b[38;5;129;01mnot\u001b[39;00m (\u001b[38;5;28mself\u001b[39m\u001b[38;5;241m.\u001b[39m_A\u001b[38;5;241m.\u001b[39mndim \u001b[38;5;241m==\u001b[39m \u001b[38;5;241m2\u001b[39m\n\u001b[0;32m    709\u001b[0m         \u001b[38;5;129;01mor\u001b[39;00m \u001b[38;5;28mself\u001b[39m\u001b[38;5;241m.\u001b[39m_A\u001b[38;5;241m.\u001b[39mndim \u001b[38;5;241m==\u001b[39m \u001b[38;5;241m3\u001b[39m \u001b[38;5;129;01mand\u001b[39;00m \u001b[38;5;28mself\u001b[39m\u001b[38;5;241m.\u001b[39m_A\u001b[38;5;241m.\u001b[39mshape[\u001b[38;5;241m-\u001b[39m\u001b[38;5;241m1\u001b[39m] \u001b[38;5;129;01min\u001b[39;00m [\u001b[38;5;241m3\u001b[39m, \u001b[38;5;241m4\u001b[39m]):\n\u001b[1;32m--> 710\u001b[0m     \u001b[38;5;28;01mraise\u001b[39;00m \u001b[38;5;167;01mTypeError\u001b[39;00m(\u001b[38;5;124m\"\u001b[39m\u001b[38;5;124mInvalid shape \u001b[39m\u001b[38;5;132;01m{}\u001b[39;00m\u001b[38;5;124m for image data\u001b[39m\u001b[38;5;124m\"\u001b[39m\n\u001b[0;32m    711\u001b[0m                     \u001b[38;5;241m.\u001b[39mformat(\u001b[38;5;28mself\u001b[39m\u001b[38;5;241m.\u001b[39m_A\u001b[38;5;241m.\u001b[39mshape))\n\u001b[0;32m    713\u001b[0m \u001b[38;5;28;01mif\u001b[39;00m \u001b[38;5;28mself\u001b[39m\u001b[38;5;241m.\u001b[39m_A\u001b[38;5;241m.\u001b[39mndim \u001b[38;5;241m==\u001b[39m \u001b[38;5;241m3\u001b[39m:\n\u001b[0;32m    714\u001b[0m     \u001b[38;5;66;03m# If the input data has values outside the valid range (after\u001b[39;00m\n\u001b[0;32m    715\u001b[0m     \u001b[38;5;66;03m# normalisation), we issue a warning and then clip X to the bounds\u001b[39;00m\n\u001b[0;32m    716\u001b[0m     \u001b[38;5;66;03m# - otherwise casting wraps extreme values, hiding outliers and\u001b[39;00m\n\u001b[0;32m    717\u001b[0m     \u001b[38;5;66;03m# making reliable interpretation impossible.\u001b[39;00m\n\u001b[0;32m    718\u001b[0m     high \u001b[38;5;241m=\u001b[39m \u001b[38;5;241m255\u001b[39m \u001b[38;5;28;01mif\u001b[39;00m np\u001b[38;5;241m.\u001b[39missubdtype(\u001b[38;5;28mself\u001b[39m\u001b[38;5;241m.\u001b[39m_A\u001b[38;5;241m.\u001b[39mdtype, np\u001b[38;5;241m.\u001b[39minteger) \u001b[38;5;28;01melse\u001b[39;00m \u001b[38;5;241m1\u001b[39m\n",
      "\u001b[1;31mTypeError\u001b[0m: Invalid shape (1, 608, 608, 3) for image data"
     ]
    },
    {
     "data": {
      "image/png": "[encoded data removed]",
      "text/plain": [
       "<Figure size 640x480 with 1 Axes>"
      ]
     },
     "metadata": {},
     "output_type": "display_data"
    }
   ],
   "source": []
  },
  {
   "cell_type": "code",
   "execution_count": null,
   "id": "ff178100-5981-4e76-9fd9-cdc31b5ab4ea",
   "metadata": {},
   "outputs": [],
   "source": []
  }
 ],
 "metadata": {
  "kernelspec": {
   "display_name": "Python 3 (ipykernel)",
   "language": "python",
   "name": "python3"
  },
  "language_info": {
   "codemirror_mode": {
    "name": "ipython",
    "version": 3
   },
   "file_extension": ".py",
   "mimetype": "text/x-python",
   "name": "python",
   "nbconvert_exporter": "python",
   "pygments_lexer": "ipython3",
   "version": "3.10.8"
  }
 },
 "nbformat": 4,
 "nbformat_minor": 5
}
